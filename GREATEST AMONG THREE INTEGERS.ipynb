{
 "cells": [
  {
   "cell_type": "markdown",
   "metadata": {},
   "source": [
    "PROGRAM:-1\n",
    "Find the greatest among three integers input by the user (show both methods.. with 'and' and without it).Include all possible cases for any values of three integers .\n",
    "\n"
   ]
  },
  {
   "cell_type": "code",
   "execution_count": 18,
   "metadata": {},
   "outputs": [
    {
     "name": "stdout",
     "output_type": "stream",
     "text": [
      "print all three numbers are equal\n"
     ]
    }
   ],
   "source": [
    "#first take three inputs from user for three numbers a,b and c\n",
    "a=int(input(\"enter the first number:\"))\n",
    "b=int(input(\"enter the second number:\"))\n",
    "c=int(input(\"enter the third number:\"))\n",
    "#first check all possibe cases for three numbers. that are:-\n",
    "        #(Case-1) all three are different numbers :- a>b>c , a>c>b , b>c>a , b>a>c , c>a>b , c>b>a \n",
    "        #(Case-2) two of them may be equal :- a=b>c , c>a=b , b=c>a , a>b=c , c=a>b , b>c=a\n",
    "        #(Case-3) all three numbers are equal :- a=b=c'''\n",
    "if(a==b):         #checking for (Case-2) , if a=b          \n",
    "  if(a>c):           #check for a=b>c\n",
    "    print(\"a and b are equal and greatest\") \n",
    "  elif(c>a):         #check for c>a=b\n",
    "    print(\"c is the greatest and a and b are equal\")         \n",
    "  else:  #Case-3 if a is also equals to c (that is; a=c)\n",
    "     print(\"print all three numbers are equal\")        \n",
    "elif(a==c):       #checking for (Case-2) , if a=c\n",
    "  if(a>b):         #check for a=c>b\n",
    "    print(\"a and c are equal and greatest\")\n",
    "  else:           #remaining condition is b>a=c\n",
    "    print(\"b is the greatest and a and c are equal\")\n",
    "elif(b==c):       #checking for (Case-2) , if b=c\n",
    "  if(b>a):         #check for b=c>a\n",
    "    print(\"b and c are equal and greatest\")\n",
    "  else:             #remaining condition is b=c>a\n",
    "    print(\"a is greatest and b and c are equal\")\n",
    "elif(a>b) and (a>c):                                    #Case-1:- condition if a is greatest\n",
    "  print(\"a is greatest\")\n",
    "elif(b>a) and (b>c):                                    #Case-1:- condition if b is greatest\n",
    "  print(\"b is greatest\")\n",
    "elif(c>b) and (c>a):                                    #Case-1:- condition if c is greatest\n",
    "  print(\"c is greatest\")"
   ]
  },
  {
   "cell_type": "code",
   "execution_count": null,
   "metadata": {},
   "outputs": [],
   "source": []
  },
  {
   "cell_type": "code",
   "execution_count": null,
   "metadata": {},
   "outputs": [],
   "source": []
  }
 ],
 "metadata": {
  "kernelspec": {
   "display_name": "Python 3",
   "language": "python",
   "name": "python3"
  },
  "language_info": {
   "codemirror_mode": {
    "name": "ipython",
    "version": 3
   },
   "file_extension": ".py",
   "mimetype": "text/x-python",
   "name": "python",
   "nbconvert_exporter": "python",
   "pygments_lexer": "ipython3",
   "version": "3.11.5"
  },
  "orig_nbformat": 4
 },
 "nbformat": 4,
 "nbformat_minor": 2
}
