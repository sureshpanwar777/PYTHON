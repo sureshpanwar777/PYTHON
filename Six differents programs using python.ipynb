{
 "cells": [
  {
   "cell_type": "code",
   "execution_count": 3,
   "metadata": {},
   "outputs": [
    {
     "name": "stdout",
     "output_type": "stream",
     "text": [
      "1.0\n"
     ]
    }
   ],
   "source": []
  },
  {
   "cell_type": "markdown",
   "metadata": {},
   "source": [
    "PROGRAM:-1 \n",
    "You are given two numbers a and b . Find a/b (b could be zero)."
   ]
  },
  {
   "cell_type": "code",
   "execution_count": null,
   "metadata": {},
   "outputs": [],
   "source": [
    "#first take two inputs from user for a and b\n",
    "a=float(input(\"enter your first number\"))\n",
    "b=float(input(\"enter your second number\"))\n",
    "if b!=0:        #check whether b is equal to zero or not\n",
    "    print(a/b)\n",
    "else:           #if b=0 then a/b is not defined     \n",
    "    print(\"not defined\")\n"
   ]
  },
  {
   "cell_type": "markdown",
   "metadata": {},
   "source": [
    "PROGRAM:-2\n",
    "You are given a point in 2D space . Find the quadrant in which it lies ?"
   ]
  },
  {
   "cell_type": "code",
   "execution_count": 12,
   "metadata": {},
   "outputs": [
    {
     "name": "stdout",
     "output_type": "stream",
     "text": [
      "point is on origin\n"
     ]
    }
   ],
   "source": [
    "#first take two inputs from user for x and y coordinates of point\n",
    "x=int(input(\"enter x coordinate of point\"))\n",
    "y=int(input(\"enter y coordinate of point\"))\n",
    "if x==0 and y==0:      #check if point lies on the origin\n",
    "    print(\"point is on origin\")\n",
    "elif x>0:              #check that x coordinate is positive or not to eliminate 2 quadrants\n",
    "    if y>0:            #if x is positive than check for y coordinate is positive or not(one more qudrant will get eliminate)\n",
    "        print(\"point is in 1st quadrant\")\n",
    "    else:              #now remaining condition will give you the 4th quadrant\n",
    "        print(\"point is in 4th quadrant\")\n",
    "elif x<0:              #if x is not positive than check for x to be negative\n",
    "    if y>0:            #now check for y positive or not\n",
    "        print(\"point is in 2nd quadrant\")\n",
    "    else:              #now remaining condition will give you the 3rd quadrant\n",
    "        print(\"point is in 3rd quadrant\")\n",
    "elif x==0:             #check whether the point lies on y axis\n",
    "    print (\"point is on y axis\")\n",
    "\n",
    "elif y==0:             #check whether the point lies on x axis\n",
    "    print (\"point is on x axis\")"
   ]
  },
  {
   "cell_type": "markdown",
   "metadata": {},
   "source": [
    "PROGRAM:-3\n",
    "You are given two points in 2D space . find the slope and Y-intercept of the line joining them.Consider all cases."
   ]
  },
  {
   "cell_type": "code",
   "execution_count": 14,
   "metadata": {},
   "outputs": [
    {
     "name": "stdout",
     "output_type": "stream",
     "text": [
      "slope of line is  -1.6666666666666665\n",
      "y intercept of line is  4.0\n"
     ]
    }
   ],
   "source": [
    "#first take 4 inputs from user for x and y coordinates of two points \n",
    "x1=int(input(\"enter x coordinate of  1st point\"))\n",
    "y1=int(input(\"enter y coordinate of 1st point\"))\n",
    "x2=int(input(\"enter x coordinate of  2nd point\"))\n",
    "y2=int(input(\"enter y coordinate of  2nd point\"))\n",
    "if x2-x1==0:       #check whether the formulaof slope is not defined \n",
    "    print(\"slope is not defined\")\n",
    "else:\n",
    "    print(\"slope of line is \",y2-y1/x2-x1) #if formula is defined than output will be the value of slope of line\n",
    "if x2-x1==0:                #check whether the y intercept is defined or not from formula\n",
    "    print(\"y intercept is not defined\")\n",
    "else:                       #if formula  is defined than output will be the value of Y intercept of line\n",
    "    print(\"y intercept of line is \", (y1-y2)*x1/(x2-x1) + y1)\n"
   ]
  },
  {
   "cell_type": "markdown",
   "metadata": {},
   "source": [
    "PROGRAM:-4 \n",
    "You are given a temperature in Fahrenheit, convert it to Celsius. If the temperature is below 10 degree celcius output cold, between 10 and 25 output pleasant, between 25 and 35 output warm, and above 35 output hot."
   ]
  },
  {
   "cell_type": "code",
   "execution_count": 21,
   "metadata": {},
   "outputs": [
    {
     "name": "stdout",
     "output_type": "stream",
     "text": [
      "temperature in celsius is  101.66666666666667\n",
      "it is hot\n"
     ]
    }
   ],
   "source": [
    "#First take input from user for temperature in fahrenheit \n",
    "F=float(input(\"enter temoerature in degree fahrenheit \"))\n",
    "print(\"temperature in celsius is \", (F-32)*5/9 )   #Enter formula for converting temperature in celsius\n",
    "c=(F-32)*5/9 #assigning value to the c for temperature in celsius\n",
    "if c<10:      #check whether temperature is below 10 degree celsius\n",
    "    print(\"it is cold \")\n",
    "elif 10<=c<25:   #check whether temperature is between 10 and 25 degree celsius\n",
    "    print(\"it is plesant\")\n",
    "elif 25<=c<35:   #check whether temperature is between 25 and 35 degree celsius\n",
    "    print(\"it is warm\")\n",
    "elif c>=35:       #remaining condition is that temperature is above 35 degree celsius\n",
    "    print(\"it is hot\")\n"
   ]
  },
  {
   "cell_type": "markdown",
   "metadata": {},
   "source": [
    " PROGRAM:-5 \n",
    " You are given a quadratic equation with coefficients a, b and c, find the two solutions (may be real or complex). You should not take the square root of a negative number in your code.\n"
   ]
  },
  {
   "cell_type": "code",
   "execution_count": 2,
   "metadata": {},
   "outputs": [
    {
     "name": "stdout",
     "output_type": "stream",
     "text": [
      "ax^2+bx+c=0 is a quadratic equation\n",
      "first root is 60.0\n",
      "second root is -126.0\n"
     ]
    }
   ],
   "source": [
    "#first take three inputs from user for value of a , b and c ,\n",
    "print(\"ax^2+bx+c=0 is a quadratic equation\")\n",
    "a=float(input(\"coefficent of x^2:\"))\n",
    "b=float(input(\"coefficent of x:\"))\n",
    "c=float(input(\"constant number c:\"))\n",
    "x1=(-b+(b*b-4*a*c)**0.5)/2*a       #assigning value x1 to the first root\n",
    "x2=(-b-(b*b-4*a*c)**0.5)/2*a       #assigning value x2 to the second root\n",
    "if (b*b-4*a*c)<0:                  #check whether roots are real or not , by checking D=0 (for not taking negative value under root)\n",
    "    print(\"roots are not real\")\n",
    "else:                              #if roots are real than print value of both the roots\n",
    "    print(\"first root is\", x1)\n",
    "    print(\"second root is\",x2)"
   ]
  },
  {
   "cell_type": "markdown",
   "metadata": {},
   "source": [
    " PROGRAM:-6 You are given three points, find out whether they lie on the same straight line or not.Y"
   ]
  },
  {
   "cell_type": "code",
   "execution_count": 5,
   "metadata": {},
   "outputs": [
    {
     "name": "stdout",
     "output_type": "stream",
     "text": [
      "all three points are collinear\n"
     ]
    }
   ],
   "source": [
    "#first take 6 inputs from user for x and y coordinates of all three points \n",
    "x1=int(input(\"enter x coordinate of  1st point\"))\n",
    "y1=int(input(\"enter y coordinate of 1st point\"))\n",
    "x2=int(input(\"enter x coordinate of  2nd point\"))\n",
    "y2=int(input(\"enter y coordinate of  2nd point\"))\n",
    "x3=int(input(\"enter x coordinate of  3rd point\"))\n",
    "y3=int(input(\"enter y coordinate of  3rd point\"))\n",
    "a=1/2*(x1*(y2-y3)+x2*(y3-y1)+x3*(y1-y2))    #assigning value (a) to the area of triangle made by three points\n",
    "if a==0:      #check whether the area of triangle made by three points is zero .if it is zero than all points are collinear\n",
    "    print(\"all three points are collinear\")\n",
    "else:         #if area of triangle made by three points is not zero than all three points are not collinearPROGRAPR\n",
    "    print(\"all three points are non collinear\")\n"
   ]
  },
  {
   "cell_type": "code",
   "execution_count": null,
   "metadata": {},
   "outputs": [],
   "source": []
  }
 ],
 "metadata": {
  "kernelspec": {
   "display_name": "Python 3",
   "language": "python",
   "name": "python3"
  },
  "language_info": {
   "codemirror_mode": {
    "name": "ipython",
    "version": 3
   },
   "file_extension": ".py",
   "mimetype": "text/x-python",
   "name": "python",
   "nbconvert_exporter": "python",
   "pygments_lexer": "ipython3",
   "version": "3.11.5"
  },
  "orig_nbformat": 4
 },
 "nbformat": 4,
 "nbformat_minor": 2
}
