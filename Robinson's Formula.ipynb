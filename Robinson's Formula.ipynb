{
 "cells": [
  {
   "cell_type": "markdown",
   "metadata": {},
   "source": [
    "Proram:1 \n",
    "Find the appropriate weight of a person by taking gender and height as input from user . (USING ROBINSON FORMULA)"
   ]
  },
  {
   "cell_type": "code",
   "execution_count": 2,
   "metadata": {},
   "outputs": [
    {
     "name": "stdout",
     "output_type": "stream",
     "text": [
      "Enter 1 for male and 2 for female in gender\n",
      "weight should be 72.9 Kg\n"
     ]
    }
   ],
   "source": [
    " #First show the format  in which user should give input\n",
    "print(\"Enter 1 for male and 2 for female in gender\")  \n",
    "gender=int(input(\"enter your gender \"))   #taking input for gender\n",
    "height=float(input(\"enter your height in inches\"))  #taking input for height\n",
    "if gender==1: #IF USER IS MALE\n",
    "    weight1=52+1.9*(height-60)     #weight formula for male\n",
    "    print(\"weight should be\", weight1 , \"Kg\")       #Show results according to formula for male\n",
    "elif gender==2:    #IF USER IS FEMALE\n",
    "    weight2=49+1.6*(height-60)     #weight formula for fe male\n",
    "    print(\"weight should be\", weight2 , \"Kg\")        #Show results according to formula for female"
   ]
  },
  {
   "cell_type": "code",
   "execution_count": null,
   "metadata": {},
   "outputs": [],
   "source": []
  }
 ],
 "metadata": {
  "kernelspec": {
   "display_name": "Python 3",
   "language": "python",
   "name": "python3"
  },
  "language_info": {
   "codemirror_mode": {
    "name": "ipython",
    "version": 3
   },
   "file_extension": ".py",
   "mimetype": "text/x-python",
   "name": "python",
   "nbconvert_exporter": "python",
   "pygments_lexer": "ipython3",
   "version": "3.11.5"
  },
  "orig_nbformat": 4
 },
 "nbformat": 4,
 "nbformat_minor": 2
}
